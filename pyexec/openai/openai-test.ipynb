{
 "cells": [
  {
   "cell_type": "code",
   "execution_count": null,
   "metadata": {},
   "outputs": [],
   "source": [
    "import os\n",
    "import openai\n",
    "import json\n",
    "\n",
    "'''\n",
    "https://juejin.cn/post/7206511128277024823\n",
    "'''\n",
    "\n",
    "\n",
    "# 目前需要设置代理才可以访问 api\n",
    "os.environ[\"HTTP_PROXY\"] = \"10.144.1.10:8080\"\n",
    "os.environ[\"HTTPS_PROXY\"] = \"10.144.1.10:8080\"\n",
    "\n",
    "\n",
    "def get_api_key():\n",
    "    # 可以自己根据自己实际情况实现\n",
    "    # 以我为例子，我是存在一个 openai_key 文件里，json 格式\n",
    "    '''\n",
    "    {\"api\": \"你的 api keys\"}\n",
    "    '''\n",
    "    openai_key_file = '../envs/openai_key'\n",
    "    with open(openai_key_file, 'r', encoding='utf-8') as f:\n",
    "        openai_key = json.loads(f.read())\n",
    "    return openai_key['api']\n",
    "\n",
    "openai.api_key = get_api_key()\n",
    "\n",
    "q = \"用python实现：提示手动输入3个不同的3位数区间，输入结束后计算这3个区间的交集，并输出结果区间\"\n",
    "rsp = openai.ChatCompletion.create(\n",
    "  model=\"gpt-3.5-turbo\",\n",
    "  messages=[\n",
    "        {\"role\": \"system\", \"content\": \"一个有10年Python开发经验的资深算法工程师\"},\n",
    "        {\"role\": \"user\", \"content\": q}\n",
    "    ]\n",
    ")"
   ]
  }
 ],
 "metadata": {
  "kernelspec": {
   "display_name": "Python 3",
   "language": "python",
   "name": "python3"
  },
  "language_info": {
   "codemirror_mode": {
    "name": "ipython",
    "version": 3
   },
   "file_extension": ".py",
   "mimetype": "text/x-python",
   "name": "python",
   "nbconvert_exporter": "python",
   "pygments_lexer": "ipython3",
   "version": "3.7.3"
  },
  "orig_nbformat": 4
 },
 "nbformat": 4,
 "nbformat_minor": 2
}
