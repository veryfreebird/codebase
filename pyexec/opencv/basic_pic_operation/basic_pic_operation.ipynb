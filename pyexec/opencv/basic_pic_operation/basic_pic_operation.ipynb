{
 "cells": [
  {
   "cell_type": "code",
   "execution_count": 10,
   "metadata": {},
   "outputs": [
    {
     "name": "stdout",
     "output_type": "stream",
     "text": [
      "(128, 128, 3)\n",
      "49152\n"
     ]
    }
   ],
   "source": [
    "import random\n",
    "import numpy as np\n",
    "import cv2 as cv\n",
    "from matplotlib import pyplot as plt\n",
    "\n",
    "# 用灰度模式加载图像\n",
    "img = cv.imread('yellow.jpg')\n",
    "print(img.shape)\n",
    "print(img.size)\n",
    "print(img.dtype)\n",
    "\n",
    "while(True):\n",
    "    cv.imshow('frame',img)\n",
    "    xx = random.randint(0, 127)\n",
    "    yy = random.randint(0, 127)\n",
    "    img[xx,yy] = [random.randint(0, 255), random.randint(0, 255), random.randint(0, 255)]\n",
    "    if cv.waitKey(1) & 0xFF == ord('q'):\n",
    "            break\n",
    "\n",
    "cv.destroyAllWindows()"
   ]
  }
 ],
 "metadata": {
  "kernelspec": {
   "display_name": "Python 3",
   "language": "python",
   "name": "python3"
  },
  "language_info": {
   "codemirror_mode": {
    "name": "ipython",
    "version": 3
   },
   "file_extension": ".py",
   "mimetype": "text/x-python",
   "name": "python",
   "nbconvert_exporter": "python",
   "pygments_lexer": "ipython3",
   "version": "3.7.3"
  },
  "orig_nbformat": 4
 },
 "nbformat": 4,
 "nbformat_minor": 2
}
