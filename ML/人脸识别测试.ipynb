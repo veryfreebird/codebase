{
 "cells": [
  {
   "cell_type": "markdown",
   "metadata": {},
   "source": [
    "人脸检测及识别python实现系列（1）——配置、获取实时视频流\n",
    "http://www.cnblogs.com/neo-T/p/6426029.html"
   ]
  },
  {
   "cell_type": "markdown",
   "metadata": {},
   "source": [
    "Open camera"
   ]
  },
  {
   "cell_type": "code",
   "execution_count": 5,
   "metadata": {},
   "outputs": [],
   "source": [
    "#-*- coding: utf-8 -*-\n",
    "\n",
    "import cv2\n",
    "import sys\n",
    "from PIL import Image\n",
    "\n",
    "def CatchUsbVideo(window_name, camera_idx):\n",
    "    cv2.namedWindow(window_name)\n",
    "    \n",
    "    #视频来源，可以来自一段已存好的视频，也可以直接来自USB摄像头\n",
    "    cap = cv2.VideoCapture(camera_idx)        \n",
    "        \n",
    "    while cap.isOpened():\n",
    "        ok, frame = cap.read() #读取一帧数据\n",
    "        if not ok:            \n",
    "            break                    \n",
    "                         \n",
    "        #显示图像并等待10毫秒按键输入，输入‘q’退出程序\n",
    "        cv2.imshow(window_name, frame)\n",
    "        c = cv2.waitKey(10)\n",
    "        if c & 0xFF == ord('q'):\n",
    "            break        \n",
    "    \n",
    "    #释放摄像头并销毁所有窗口\n",
    "    cap.release()\n",
    "    cv2.destroyAllWindows() \n",
    "    \n",
    "CatchUsbVideo(\"Open camera, press q to quit\", 0)"
   ]
  },
  {
   "cell_type": "markdown",
   "metadata": {},
   "source": [
    "人脸检测及识别python实现系列（2）——识别出人脸\n",
    "http://www.cnblogs.com/neo-T/p/6430583.html"
   ]
  },
  {
   "cell_type": "code",
   "execution_count": 6,
   "metadata": {},
   "outputs": [
    {
     "ename": "error",
     "evalue": "C:\\ci\\opencv_1512688052760\\work\\modules\\objdetect\\src\\cascadedetect.cpp:1698: error: (-215) !empty() in function cv::CascadeClassifier::detectMultiScale\n",
     "output_type": "error",
     "traceback": [
      "\u001b[1;31m---------------------------------------------------------------------------\u001b[0m",
      "\u001b[1;31merror\u001b[0m                                     Traceback (most recent call last)",
      "\u001b[1;32m<ipython-input-6-a48ef0458394>\u001b[0m in \u001b[0;36m<module>\u001b[1;34m()\u001b[0m\n\u001b[0;32m     42\u001b[0m     \u001b[0mcv2\u001b[0m\u001b[1;33m.\u001b[0m\u001b[0mdestroyAllWindows\u001b[0m\u001b[1;33m(\u001b[0m\u001b[1;33m)\u001b[0m\u001b[1;33m\u001b[0m\u001b[0m\n\u001b[0;32m     43\u001b[0m \u001b[1;33m\u001b[0m\u001b[0m\n\u001b[1;32m---> 44\u001b[1;33m \u001b[0mCatchUsbVideo\u001b[0m\u001b[1;33m(\u001b[0m\u001b[1;34m\"Identify area of face\"\u001b[0m\u001b[1;33m,\u001b[0m \u001b[1;36m0\u001b[0m\u001b[1;33m)\u001b[0m\u001b[1;33m\u001b[0m\u001b[0m\n\u001b[0m",
      "\u001b[1;32m<ipython-input-6-a48ef0458394>\u001b[0m in \u001b[0;36mCatchUsbVideo\u001b[1;34m(window_name, camera_idx)\u001b[0m\n\u001b[0;32m     26\u001b[0m \u001b[1;33m\u001b[0m\u001b[0m\n\u001b[0;32m     27\u001b[0m         \u001b[1;31m#人脸检测，1.2和2分别为图片缩放比例和需要检测的有效点数\u001b[0m\u001b[1;33m\u001b[0m\u001b[1;33m\u001b[0m\u001b[0m\n\u001b[1;32m---> 28\u001b[1;33m         \u001b[0mfaceRects\u001b[0m \u001b[1;33m=\u001b[0m \u001b[0mclassfier\u001b[0m\u001b[1;33m.\u001b[0m\u001b[0mdetectMultiScale\u001b[0m\u001b[1;33m(\u001b[0m\u001b[0mgrey\u001b[0m\u001b[1;33m,\u001b[0m \u001b[0mscaleFactor\u001b[0m \u001b[1;33m=\u001b[0m \u001b[1;36m1.2\u001b[0m\u001b[1;33m,\u001b[0m \u001b[0mminNeighbors\u001b[0m \u001b[1;33m=\u001b[0m \u001b[1;36m3\u001b[0m\u001b[1;33m,\u001b[0m \u001b[0mminSize\u001b[0m \u001b[1;33m=\u001b[0m \u001b[1;33m(\u001b[0m\u001b[1;36m32\u001b[0m\u001b[1;33m,\u001b[0m \u001b[1;36m32\u001b[0m\u001b[1;33m)\u001b[0m\u001b[1;33m)\u001b[0m\u001b[1;33m\u001b[0m\u001b[0m\n\u001b[0m\u001b[0;32m     29\u001b[0m         \u001b[1;32mif\u001b[0m \u001b[0mlen\u001b[0m\u001b[1;33m(\u001b[0m\u001b[0mfaceRects\u001b[0m\u001b[1;33m)\u001b[0m \u001b[1;33m>\u001b[0m \u001b[1;36m0\u001b[0m\u001b[1;33m:\u001b[0m            \u001b[1;31m#大于0则检测到人脸\u001b[0m\u001b[1;33m\u001b[0m\u001b[0m\n\u001b[0;32m     30\u001b[0m             \u001b[1;32mfor\u001b[0m \u001b[0mfaceRect\u001b[0m \u001b[1;32min\u001b[0m \u001b[0mfaceRects\u001b[0m\u001b[1;33m:\u001b[0m  \u001b[1;31m#单独框出每一张人脸\u001b[0m\u001b[1;33m\u001b[0m\u001b[0m\n",
      "\u001b[1;31merror\u001b[0m: C:\\ci\\opencv_1512688052760\\work\\modules\\objdetect\\src\\cascadedetect.cpp:1698: error: (-215) !empty() in function cv::CascadeClassifier::detectMultiScale\n"
     ]
    }
   ],
   "source": [
    "#-*- coding: utf-8 -*-\n",
    "\n",
    "import cv2\n",
    "import sys\n",
    "from PIL import Image\n",
    "\n",
    "def CatchUsbVideo(window_name, camera_idx):\n",
    "    cv2.namedWindow(window_name)\n",
    "    \n",
    "    #视频来源，可以来自一段已存好的视频，也可以直接来自USB摄像头\n",
    "    cap = cv2.VideoCapture(camera_idx)                \n",
    "    \n",
    "    #告诉OpenCV使用人脸识别分类器\n",
    "    classfier = cv2.CascadeClassifier(\"/usr/local/share/OpenCV/haarcascades/haarcascade_frontalface_alt2.xml\")\n",
    "    \n",
    "    #识别出人脸后要画的边框的颜色，RGB格式\n",
    "    color = (0, 255, 0)\n",
    "        \n",
    "    while cap.isOpened():\n",
    "        ok, frame = cap.read() #读取一帧数据\n",
    "        if not ok:            \n",
    "            break  \n",
    "\n",
    "        #将当前帧转换成灰度图像\n",
    "        grey = cv2.cvtColor(frame, cv2.COLOR_BGR2GRAY)                 \n",
    "        \n",
    "        #人脸检测，1.2和2分别为图片缩放比例和需要检测的有效点数\n",
    "        faceRects = classfier.detectMultiScale(grey, scaleFactor = 1.2, minNeighbors = 3, minSize = (32, 32))\n",
    "        if len(faceRects) > 0:            #大于0则检测到人脸                                   \n",
    "            for faceRect in faceRects:  #单独框出每一张人脸\n",
    "                x, y, w, h = faceRect        \n",
    "                cv2.rectangle(frame, (x - 10, y - 10), (x + w + 10, y + h + 10), color, 2)\n",
    "                        \n",
    "        #显示图像\n",
    "        cv2.imshow(window_name, frame)        \n",
    "        c = cv2.waitKey(10)\n",
    "        if c & 0xFF == ord('q'):\n",
    "            break        \n",
    "    \n",
    "    #释放摄像头并销毁所有窗口\n",
    "    cap.release()\n",
    "    cv2.destroyAllWindows() \n",
    "    \n",
    "CatchUsbVideo(\"Identify area of face\", 0)"
   ]
  },
  {
   "cell_type": "markdown",
   "metadata": {},
   "source": [
    "以下为opencv显示图形应用"
   ]
  },
  {
   "cell_type": "code",
   "execution_count": 2,
   "metadata": {},
   "outputs": [],
   "source": [
    "import cv2 as cv\n",
    "img = cv.imread(r'C:\\Users\\jamema\\opencv_test.jpg')\n",
    "\n",
    "cv.imshow('Image', img)\n",
    "cv.waitKey(0)\n",
    "cv.destroyAllWindows()"
   ]
  }
 ],
 "metadata": {
  "kernelspec": {
   "display_name": "Python 3",
   "language": "python",
   "name": "python3"
  },
  "language_info": {
   "codemirror_mode": {
    "name": "ipython",
    "version": 3
   },
   "file_extension": ".py",
   "mimetype": "text/x-python",
   "name": "python",
   "nbconvert_exporter": "python",
   "pygments_lexer": "ipython3",
   "version": "3.6.5"
  }
 },
 "nbformat": 4,
 "nbformat_minor": 2
}
