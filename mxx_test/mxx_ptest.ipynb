{
 "cells": [
  {
   "cell_type": "code",
   "execution_count": null,
   "metadata": {},
   "outputs": [],
   "source": [
    "'''4'''\n",
    "a=str(input())\n",
    "b=str(input())\n",
    "c=str(input())\n",
    "print('name:'+a)\n",
    "print('age:'+b)\n",
    "print('NO:'+c)"
   ]
  },
  {
   "cell_type": "code",
   "execution_count": null,
   "metadata": {},
   "outputs": [],
   "source": [
    "'''5'''\n",
    "a=int(input())\n",
    "b=int(input())\n",
    "if a>=0 and b<=10**9:\n",
    "      print(a+b)"
   ]
  },
  {
   "cell_type": "code",
   "execution_count": null,
   "metadata": {},
   "outputs": [],
   "source": [
    "'''6'''\n",
    "c=str(input())\n",
    "m=c.find(\" \")\n",
    "a=int(c[0:m])\n",
    "b=int(c[m+1:len(c)])\n",
    "if a>=0 and b<=10**9:\n",
    "      print(a+b)"
   ]
  },
  {
   "cell_type": "code",
   "execution_count": null,
   "metadata": {},
   "outputs": [],
   "source": [
    "'''7'''\n",
    "a=int(input())\n",
    "b=int(input())\n",
    "print(2*(a+b))"
   ]
  },
  {
   "cell_type": "code",
   "execution_count": null,
   "metadata": {},
   "outputs": [],
   "source": [
    "'''9'''\n",
    "def Code2Char(c):  #十进制值转换为加密字符的函数\n",
    "    s='IlikeCHNpostcard'\n",
    "    return s[c]\n",
    "s=input()\n",
    "n=len(s)\n",
    "ss=''\n",
    "for i in range(n):\n",
    "    a=ord(s[i])   ###ord函数的使用，和chr()函数的区别，以及int()函数的区别\n",
    "    b1=a//16\n",
    "    b2=a%16\n",
    "    ss+=Code2Char(b1)+Code2Char(b2)  \n",
    "print(ss)"
   ]
  },
  {
   "cell_type": "code",
   "execution_count": null,
   "metadata": {},
   "outputs": [],
   "source": [
    "'''14'''\n",
    "a=input()\n",
    "b=''\n",
    "if a.isdigit():\n",
    "    m=len(a)\n",
    "    for i in range(m-1,-1,-1):  ### 反向循环\n",
    "        b+=a[i]\n",
    "    if a==b:\n",
    "        print('True')\n",
    "    else:\n",
    "        print('False')\n",
    "else:\n",
    "    print('False')"
   ]
  },
  {
   "cell_type": "code",
   "execution_count": null,
   "metadata": {},
   "outputs": [],
   "source": [
    "'''17'''\n",
    "a=int(input())\n",
    "if a%4==0 and a%100!=0:\n",
    "    print('Yes')\n",
    "elif a%400==0:\n",
    "    print('Yes')\n",
    "else:\n",
    "    print('No')"
   ]
  },
  {
   "cell_type": "code",
   "execution_count": null,
   "metadata": {},
   "outputs": [],
   "source": [
    "'''19'''\n",
    "a=int(input())\n",
    "b=int(input())\n",
    "c=int(input())\n",
    "import math ###注意数学库的使用\n",
    "p=(a+b+c)/2\n",
    "if a+b>c and b+c>a and c+a>b:\n",
    "    s=math.sqrt(p*(p-a)*(p-b)*(p-c)) ###海伦公式，注意函数的使用\n",
    "    print('%.2f'%s) ###保留到小数点后两位，会四舍五入\n",
    "else:\n",
    "    print('It is not a triangle.')"
   ]
  },
  {
   "cell_type": "code",
   "execution_count": null,
   "metadata": {},
   "outputs": [],
   "source": [
    "'''38'''\n",
    "a=int(input())\n",
    "b=int(input())\n",
    "c=int(input())\n",
    "s=0\n",
    "for m in range(a,b+1,c): ###步进for循环的使用\n",
    "    s=s+m\n",
    "print(s)"
   ]
  },
  {
   "cell_type": "code",
   "execution_count": null,
   "metadata": {},
   "outputs": [],
   "source": [
    "'''50'''\n",
    "a=int(input())\n",
    "b=a*1000\n",
    "c=5\n",
    "d=0\n",
    "while c<b:\n",
    "    c=c*2\n",
    "    d=d+1\n",
    "print(d)"
   ]
  },
  {
   "cell_type": "code",
   "execution_count": null,
   "metadata": {},
   "outputs": [],
   "source": [
    "'''54'''\n",
    "a=int(input())\n",
    "b=int(input())\n",
    "s=0\n",
    "if a%2==0:\n",
    "   for m in range(a,b+1,2):\n",
    "      s=s+m\n",
    "else:\n",
    "   for m in range(a+1,b+1,2):\n",
    "      s=s+m\n",
    "print(s)"
   ]
  },
  {
   "cell_type": "code",
   "execution_count": null,
   "metadata": {},
   "outputs": [],
   "source": [
    "'''59'''\n",
    "a=list(map(int,input().split(','))) ###输入列表方法\n",
    "dic={}\n",
    "c=len(a)\n",
    "m=''\n",
    "for i in range(c):\n",
    "    if a[i] in dic:\n",
    "        dic[a[i]]+=1\n",
    "    else:\n",
    "        dic[a[i]]=1  ###增加新的字典条目\n",
    "for j in dic:\n",
    "    m+=str(j)+' '+str(dic[j])+' '\n",
    "print(m[:-1])\n",
    "\n"
   ]
  },
  {
   "cell_type": "code",
   "execution_count": null,
   "metadata": {},
   "outputs": [],
   "source": [
    "'''67'''\n",
    "n=int(input())\n",
    "for i in range(1,n+1):\n",
    "   print(' '*(n-i)+'*'*(2*i-1))"
   ]
  },
  {
   "cell_type": "code",
   "execution_count": null,
   "metadata": {},
   "outputs": [],
   "source": [
    "'''68'''\n",
    "n=int(input())\n",
    "for i in range(0,n//5):\n",
    "    for j in range(0,n//3):\n",
    "      q=n-i-j\n",
    "      if 5*i+3*j+q/3==n:\n",
    "       print(i,j,q)"
   ]
  },
  {
   "cell_type": "code",
   "execution_count": null,
   "metadata": {},
   "outputs": [],
   "source": [
    "'''78'''\n",
    "n=int(input())\n",
    "dic={}\n",
    "for i in range(n):\n",
    "    cla=chr(i+ord(\"A\"))\n",
    "    s=list(map(int,input().split()))\n",
    "    dic[cla]=s\n",
    "    \n",
    "for m in dic:\n",
    "    for j in dic[m]:\n",
    "        print(j,end=\" \")\n",
    "    print()"
   ]
  }
 ],
 "metadata": {
  "interpreter": {
   "hash": "e7370f93d1d0cde622a1f8e1c04877d8463912d04d973331ad4851f04de6915a"
  },
  "kernelspec": {
   "display_name": "Python 3.10.4 64-bit",
   "language": "python",
   "name": "python3"
  },
  "language_info": {
   "codemirror_mode": {
    "name": "ipython",
    "version": 3
   },
   "file_extension": ".py",
   "mimetype": "text/x-python",
   "name": "python",
   "nbconvert_exporter": "python",
   "pygments_lexer": "ipython3",
   "version": "3.10.4"
  },
  "orig_nbformat": 4
 },
 "nbformat": 4,
 "nbformat_minor": 2
}
