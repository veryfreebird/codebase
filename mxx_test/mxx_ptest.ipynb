{
 "cells": [
  {
   "cell_type": "code",
   "execution_count": null,
   "metadata": {},
   "outputs": [],
   "source": [
    "'''4'''\n",
    "a=str(input())\n",
    "b=str(input())\n",
    "c=str(input())\n",
    "print('name:'+a)\n",
    "print('age:'+b)\n",
    "print('NO:'+c)"
   ]
  },
  {
   "cell_type": "code",
   "execution_count": null,
   "metadata": {},
   "outputs": [],
   "source": [
    "'''5'''\n",
    "a=int(input())\n",
    "b=int(input())\n",
    "if a>=0 and b<=10**9:\n",
    "      print(a+b)"
   ]
  },
  {
   "cell_type": "code",
   "execution_count": null,
   "metadata": {},
   "outputs": [],
   "source": [
    "'''6'''\n",
    "c=str(input())\n",
    "m=c.find(\" \")\n",
    "a=int(c[0:m])\n",
    "b=int(c[m+1:len(c)])\n",
    "if a>=0 and b<=10**9:\n",
    "      print(a+b)"
   ]
  },
  {
   "cell_type": "code",
   "execution_count": null,
   "metadata": {},
   "outputs": [],
   "source": [
    "'''7'''\n",
    "a=int(input())\n",
    "b=int(input())\n",
    "print(2*(a+b))"
   ]
  },
  {
   "cell_type": "code",
   "execution_count": null,
   "metadata": {},
   "outputs": [],
   "source": [
    "'''9'''\n",
    "def Code2Char(c):  #十进制值转换为加密字符的函数\n",
    "    s='IlikeCHNpostcard'\n",
    "    return s[c]\n",
    "s=input()\n",
    "n=len(s)\n",
    "ss=''\n",
    "for i in range(n):\n",
    "    a=ord(s[i])   ###ord函数的使用，和chr()函数的区别，以及int()函数的区别\n",
    "    b1=a//16\n",
    "    b2=a%16\n",
    "    ss+=Code2Char(b1)+Code2Char(b2)  \n",
    "print(ss)"
   ]
  },
  {
   "cell_type": "code",
   "execution_count": null,
   "metadata": {},
   "outputs": [],
   "source": [
    "'''14'''\n",
    "a=input()\n",
    "b=''\n",
    "if a.isdigit():\n",
    "    m=len(a)\n",
    "    for i in range(m-1,-1,-1):  ### 反向循环\n",
    "        b+=a[i]\n",
    "    if a==b:\n",
    "        print('True')\n",
    "    else:\n",
    "        print('False')\n",
    "else:\n",
    "    print('False')"
   ]
  },
  {
   "cell_type": "code",
   "execution_count": null,
   "metadata": {},
   "outputs": [],
   "source": [
    "'''17'''\n",
    "a=int(input())\n",
    "if a%4==0 and a%100!=0:\n",
    "    print('Yes')\n",
    "elif a%400==0:\n",
    "    print('Yes')\n",
    "else:\n",
    "    print('No')"
   ]
  },
  {
   "cell_type": "code",
   "execution_count": null,
   "metadata": {},
   "outputs": [],
   "source": [
    "'''19'''\n",
    "a=int(input())\n",
    "b=int(input())\n",
    "c=int(input())\n",
    "import math ###注意数学库的使用\n",
    "p=(a+b+c)/2\n",
    "if a+b>c and b+c>a and c+a>b:\n",
    "    s=math.sqrt(p*(p-a)*(p-b)*(p-c)) ###海伦公式，注意函数的使用\n",
    "    print('%.2f'%s) ###保留到小数点后两位，会四舍五入\n",
    "else:\n",
    "    print('It is not a triangle.')"
   ]
  },
  {
   "cell_type": "code",
   "execution_count": null,
   "metadata": {},
   "outputs": [],
   "source": [
    "'''38'''\n",
    "a=int(input())\n",
    "b=int(input())\n",
    "c=int(input())\n",
    "s=0\n",
    "for m in range(a,b+1,c): ###步进for循环的使用\n",
    "    s=s+m\n",
    "print(s)"
   ]
  },
  {
   "cell_type": "code",
   "execution_count": null,
   "metadata": {},
   "outputs": [],
   "source": [
    "'''50'''\n",
    "a=int(input())\n",
    "b=a*1000\n",
    "c=5\n",
    "d=0\n",
    "while c<b:\n",
    "    c=c*2\n",
    "    d=d+1\n",
    "print(d)"
   ]
  },
  {
   "cell_type": "code",
   "execution_count": null,
   "metadata": {},
   "outputs": [],
   "source": [
    "'''54'''\n",
    "a=int(input())\n",
    "b=int(input())\n",
    "s=0\n",
    "if a%2==0:\n",
    "   for m in range(a,b+1,2):\n",
    "      s=s+m\n",
    "else:\n",
    "   for m in range(a+1,b+1,2):\n",
    "      s=s+m\n",
    "print(s)"
   ]
  },
  {
   "cell_type": "code",
   "execution_count": null,
   "metadata": {},
   "outputs": [],
   "source": [
    "'''59'''\n",
    "a=list(map(int,input().split(','))) ###输入列表方法\n",
    "dic={}\n",
    "c=len(a)\n",
    "m=''\n",
    "for i in range(c):\n",
    "    if a[i] in dic:\n",
    "        dic[a[i]]+=1\n",
    "    else:\n",
    "        dic[a[i]]=1  ###增加新的字典条目\n",
    "for j in dic:\n",
    "    m+=str(j)+' '+str(dic[j])+' '\n",
    "print(m[:-1])\n",
    "\n"
   ]
  },
  {
   "cell_type": "code",
   "execution_count": null,
   "metadata": {},
   "outputs": [],
   "source": [
    "'''67'''\n",
    "n=int(input())\n",
    "for i in range(1,n+1):\n",
    "   print(' '*(n-i)+'*'*(2*i-1))"
   ]
  },
  {
   "cell_type": "code",
   "execution_count": null,
   "metadata": {},
   "outputs": [],
   "source": [
    "'''68'''\n",
    "n=int(input())\n",
    "for i in range(0,n//5):\n",
    "    for j in range(0,n//3):\n",
    "      q=n-i-j\n",
    "      if 5*i+3*j+q/3==n:\n",
    "       print(i,j,q)"
   ]
  },
  {
   "cell_type": "code",
   "execution_count": null,
   "metadata": {},
   "outputs": [],
   "source": [
    "'''78'''\n",
    "n=int(input())\n",
    "dic={}\n",
    "for i in range(n):\n",
    "    cla=chr(i+ord(\"A\"))\n",
    "    s=list(map(int,input().split()))\n",
    "    dic[cla]=s\n",
    "    \n",
    "for m in dic:\n",
    "    for j in dic[m]:\n",
    "        print(j,end=\" \")\n",
    "    print()"
   ]
  },
  {
   "cell_type": "code",
   "execution_count": null,
   "metadata": {},
   "outputs": [],
   "source": [
    "'''\n",
    "8 描述\n",
    "我们经常遇到两多项式相加的情况，在这里，我们就需要用程序来模拟实现把两个多项式相加到一起。首先，我们会有两个多项式，每个多项式是独立的一行，每个多项式由系数、幂数这样的多个整数对来表示。\n",
    "如多项式 2x20−x17+5x9−7x7+16x5+10x4+22x2−15\n",
    "对应的表达式为：2 20 -1 17 5 9 - 7 7 16 5 10 4 22 2 -15 0 。\n",
    "同时输入表达式的幂数是降序排列的。\n",
    "我们需要做的就是把所给的两个多项式加起来。\n",
    "输入\n",
    "输入包括2行。\n",
    "每一行都是一个多项式的表达，幂数是降序排列，每行长度小于300。\n",
    "多项式最大幂数不超过100。\n",
    "输出\n",
    "输出包括1行，为多项式相加的结果。\n",
    "在输出结果中，多项式的每一项用 [x y] 形式的字符串表示，x 是该项的系数、y 是该项的幂数。要求按照每一项的幂从高到低排列，即先输出幂数高的项、再输出幂数低的项。\n",
    "系数为零的项不要输出。\n",
    "'''\n",
    "print(\"helloworld\")"
   ]
  },
  {
   "cell_type": "code",
   "execution_count": null,
   "metadata": {},
   "outputs": [],
   "source": [
    "'''\n",
    "10问题描述\n",
    "从键盘输入2个整数，程序运行后输出2列数据，第1列是这2个整数之间的 摄氏温度值(间隔1度、升序)，第2列为对应的华氏温度值。 例如：从键盘分别输入 13、10，输出效果如下：\n",
    "摄氏温度    华氏温度\n",
    "   10       50.0\n",
    "   11       51.8\n",
    "   12       53.6\n",
    "   13       55.4\n",
    "大家可以把下面代码复制后补全缺失的语句，也可以自编程序实现同样的功能，自编时注意输出格式和空格数。\n",
    "参考代码\n",
    "'''\n",
    "t1=int(input())\n",
    "t2=int(input())\n",
    "if  t1>t2 :    \n",
    "    t1,t2=t2,t1\n",
    "i=t1\n",
    "print('摄氏温度    华氏温度')\n",
    "while i <= t2  :  \n",
    "    f=i*9/5+32    #摄氏温度转华氏温度\n",
    "    print('  ',i,'     ',f)\n",
    "    i +=1"
   ]
  },
  {
   "cell_type": "code",
   "execution_count": null,
   "metadata": {},
   "outputs": [],
   "source": [
    "'''\n",
    "11问题描述\n",
    "对输入的字符串进行去重，并保持原顺序不变，例如，输入\"aldajbnjndalldfjj\"， 执行程序后输出“aldjbnf”。实现该算法的参考程序如下，请补充填空1和填空2处的代码。 也可以自编程序实现同样功能。\n",
    "参考代码\n",
    "\n",
    "'''\n",
    "s1 =input()\n",
    "n = len(s1)\n",
    "s=\"\"\n",
    "a=['']*n\n",
    "for i in range(n):\n",
    "    a[i]=s1[i]\n",
    "i=0\n",
    "while i <n:\n",
    "    j=i+1\n",
    "    while j<n:\n",
    "        if a[i]==a[j]:\n",
    "            for k in range(  填空1  ):  \n",
    "                填空2     \n",
    "            n-=1\n",
    "            j-=1\n",
    "        j+=1\n",
    "    i+=1\n",
    "s=''.join(a[0:n])\n",
    "print(s)"
   ]
  }
 ],
 "metadata": {
  "interpreter": {
   "hash": "e7370f93d1d0cde622a1f8e1c04877d8463912d04d973331ad4851f04de6915a"
  },
  "kernelspec": {
   "display_name": "Python 3.10.4 64-bit",
   "language": "python",
   "name": "python3"
  },
  "language_info": {
   "codemirror_mode": {
    "name": "ipython",
    "version": 3
   },
   "file_extension": ".py",
   "mimetype": "text/x-python",
   "name": "python",
   "nbconvert_exporter": "python",
   "pygments_lexer": "ipython3",
   "version": "3.10.4"
  },
  "orig_nbformat": 4
 },
 "nbformat": 4,
 "nbformat_minor": 2
}
