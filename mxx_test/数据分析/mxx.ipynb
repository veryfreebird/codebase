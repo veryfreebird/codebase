{
 "cells": [
  {
   "cell_type": "markdown",
   "metadata": {},
   "source": []
  },
  {
   "cell_type": "code",
   "execution_count": null,
   "metadata": {},
   "outputs": [],
   "source": [
    "import pandas as pd\n",
    "pd.set_option(\"display.width\",200)\n",
    "pd.set_option(\"display.max_rows\",None)\n",
    "pd.set_option(\"display.max_columns\",20)\n",
    "pd.set_option(\"display.unicode.east_asian_width\",True)\n",
    "df=pd.read_csv('超市销售数据.csv')\n",
    "df=df.dropna()\n",
    "#print(df.head(20))\n",
    "\n"
   ]
  },
  {
   "cell_type": "code",
   "execution_count": null,
   "metadata": {},
   "outputs": [],
   "source": [
    "df2=df.groupby('收银员名称')['销售金额'].sum()\n",
    "#df2.sort_values(ascending=False,inplace=True)\n",
    "#print(df2)"
   ]
  },
  {
   "cell_type": "code",
   "execution_count": null,
   "metadata": {},
   "outputs": [],
   "source": [
    "df3=df.groupby('收银员名称')['收银员名称'].count()\n",
    "print(df3)\n",
    "df3.columns=['收银员名称','单数']\n",
    "#df3.index=\n",
    "#df3.drop('收银员名称',axis=1)\n",
    "df4=pd.DataFrame(df3.values,index=df3.index,columns=['单数'])\n",
    "#print(df4)\n",
    "#print(df3(0),axis=1)"
   ]
  },
  {
   "cell_type": "code",
   "execution_count": null,
   "metadata": {},
   "outputs": [],
   "source": [
    "df5=pd.concat([df2,df4],axis=1,ignore_index=False)\n",
    "print(df5)"
   ]
  },
  {
   "cell_type": "code",
   "execution_count": null,
   "metadata": {},
   "outputs": [],
   "source": [
    "import matplotlib.pyplot as plt\n",
    "plt.rc('figure',facecolor='1')\n",
    "###plt.rc('font',**{'google-noto-cjk':'NotoSansCJK-Light'})\n",
    "plt.pie(df5['销售金额'],labels=df5.index,radius=2)\n",
    "plt.title('销售金额',fontsize=40)\n",
    "plt.show()\n"
   ]
  },
  {
   "cell_type": "code",
   "execution_count": null,
   "metadata": {},
   "outputs": [],
   "source": [
    "import matplotlib.pyplot as plt\n",
    "plt.rc('figure',facecolor='1')\n",
    "plt.rc('font',**{'family':'SimHei'})\n",
    "plt.pie(df5['单数'],labels=df5.index,radius=2)\n",
    "plt.title('单数',fontsize=40)\n",
    "plt.show()\n"
   ]
  },
  {
   "cell_type": "code",
   "execution_count": null,
   "metadata": {},
   "outputs": [],
   "source": []
  }
 ],
 "metadata": {
  "interpreter": {
   "hash": "767d51c1340bd893661ea55ea3124f6de3c7a262a8b4abca0554b478b1e2ff90"
  },
  "kernelspec": {
   "display_name": "Python 3.10.4 64-bit",
   "language": "python",
   "name": "python3"
  },
  "language_info": {
   "codemirror_mode": {
    "name": "ipython",
    "version": 3
   },
   "file_extension": ".py",
   "mimetype": "text/x-python",
   "name": "python",
   "nbconvert_exporter": "python",
   "pygments_lexer": "ipython3",
   "version": "3.10.4"
  },
  "orig_nbformat": 4
 },
 "nbformat": 4,
 "nbformat_minor": 2
}
