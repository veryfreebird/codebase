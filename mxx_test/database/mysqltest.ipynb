{
 "cells": [
  {
   "cell_type": "code",
   "execution_count": 12,
   "metadata": {},
   "outputs": [
    {
     "name": "stdout",
     "output_type": "stream",
     "text": [
      "(1001, '杨过', 1, datetime.date(1990, 3, 4), '湖南长沙', 1)\n",
      "(1002, '任我行', 1, datetime.date(1992, 2, 2), '湖南长沙', 1)\n",
      "(1033, '王语嫣', 0, datetime.date(1989, 12, 3), '四川成都', 1)\n",
      "(1378, '纪嫣然', 0, datetime.date(1995, 8, 12), '四川绵阳', 1)\n",
      "(1572, '岳不群', 1, datetime.date(1993, 7, 19), '陕西咸阳', 1)\n",
      "(1954, '林平之', 1, datetime.date(1994, 9, 20), '福建莆田', 1)\n",
      "(2035, '东方不败', 1, datetime.date(1988, 6, 30), None, 2)\n",
      "(3011, '林震南', 1, datetime.date(1985, 12, 12), '福建莆田', 3)\n",
      "(3755, '项少龙', 1, datetime.date(1993, 1, 25), '四川成都', 3)\n",
      "(3923, '杨不悔', 0, datetime.date(1985, 4, 17), '四川成都', 3)\n"
     ]
    }
   ],
   "source": [
    "import pymysql\n",
    "\n",
    "##no = int(input('部门编号: '))\n",
    "##name = input('部门名称: ')\n",
    "##location = input('部门所在地: ')\n",
    "\n",
    "# 1. 创建连接（Connection）\n",
    "conn = pymysql.connect(host='127.0.0.1', port=3306,\n",
    "                       user='root', password='Sjtu&90141',\n",
    "                       database='school', charset='utf8mb4')\n",
    "with conn.cursor() as cursor:\n",
    "# 2. 通过游标对象向数据库服务器发出SQL语句\n",
    "        result = cursor.execute(\n",
    "            'select * from tb_student;'\n",
    "        )\n",
    "        data_all=cursor.fetchall()\n",
    "\n",
    "for data in data_all:\n",
    "        print(data)\n",
    "\n",
    "# 3. 关闭连接释放资源\n",
    "cursor.close()\n",
    "conn.close()"
   ]
  }
 ],
 "metadata": {
  "kernelspec": {
   "display_name": "Python 3",
   "language": "python",
   "name": "python3"
  },
  "language_info": {
   "codemirror_mode": {
    "name": "ipython",
    "version": 3
   },
   "file_extension": ".py",
   "mimetype": "text/x-python",
   "name": "python",
   "nbconvert_exporter": "python",
   "pygments_lexer": "ipython3",
   "version": "3.7.3"
  },
  "orig_nbformat": 4
 },
 "nbformat": 4,
 "nbformat_minor": 2
}
