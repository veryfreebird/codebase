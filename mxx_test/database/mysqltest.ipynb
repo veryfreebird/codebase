{
 "cells": [
  {
   "cell_type": "code",
   "execution_count": 9,
   "metadata": {},
   "outputs": [
    {
     "name": "stdout",
     "output_type": "stream",
     "text": [
      "((1, '计算机学院', '计算机学院1958年设立计算机专业，1981年建立计算机科学系，1998年设立计算机学院，2005年5月，为了进一步整合教学和科研资源，学校决定，计算机学院和软件学院行政班子合并统一运作、实行教学和学生管理独立运行的模式。 学院下设三个系：计算机科学与技术系、物联网工程系、计算金融系；两个研究所：图象图形研究所、网络空间安全研究院（2015年成立）；三个教学实验中心：计算机基础教学实验中心、IBM技术中心和计算机专业实验中心。'), (2, '外国语学院', '外国语学院设有7个教学单位，6个文理兼收的本科专业；拥有1个一级学科博士授予点，3个二级学科博士授予点，5个一级学科硕士学位授权点，5个二级学科硕士学位授权点，5个硕士专业授权领域，同时还有2个硕士专业学位（MTI）专业；有教职员工210余人，其中教授、副教授80余人，教师中获得中国国内外名校博士学位和正在职攻读博士学位的教师比例占专任教师的60%以上。'), (3, '经济管理学院', '经济学院前身是创办于1905年的经济科；已故经济学家彭迪先、张与九、蒋学模、胡寄窗、陶大镛、胡代光，以及当代学者刘诗白等曾先后在此任教或学习。'))\n"
     ]
    }
   ],
   "source": [
    "import pymysql\n",
    "\n",
    "##no = int(input('部门编号: '))\n",
    "##name = input('部门名称: ')\n",
    "##location = input('部门所在地: ')\n",
    "\n",
    "# 1. 创建连接（Connection）\n",
    "conn = pymysql.connect(host='127.0.0.1', port=3306,\n",
    "                       user='root', password='Sjtu&90141',\n",
    "                       database='school', charset='utf8mb4')\n",
    "with conn.cursor() as cursor:\n",
    "# 2. 通过游标对象向数据库服务器发出SQL语句\n",
    "        result = cursor.execute(\n",
    "            'select * from tb_college;'\n",
    "        )\n",
    "        print(cursor.fetchall())\n",
    "# 3. 关闭连接释放资源\n",
    "cursor.close()\n",
    "conn.close()"
   ]
  }
 ],
 "metadata": {
  "kernelspec": {
   "display_name": "Python 3",
   "language": "python",
   "name": "python3"
  },
  "language_info": {
   "codemirror_mode": {
    "name": "ipython",
    "version": 3
   },
   "file_extension": ".py",
   "mimetype": "text/x-python",
   "name": "python",
   "nbconvert_exporter": "python",
   "pygments_lexer": "ipython3",
   "version": "3.7.3"
  },
  "orig_nbformat": 4
 },
 "nbformat": 4,
 "nbformat_minor": 2
}
